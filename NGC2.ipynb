{
  "nbformat": 4,
  "nbformat_minor": 0,
  "metadata": {
    "colab": {
      "provenance": []
    },
    "kernelspec": {
      "name": "python3",
      "display_name": "Python 3"
    },
    "language_info": {
      "name": "python"
    }
  },
  "cells": [
    {
      "cell_type": "code",
      "execution_count": 1,
      "metadata": {
        "colab": {
          "base_uri": "https://localhost:8080/"
        },
        "id": "1Aw7bzaecZ3U",
        "outputId": "91d2eabf-ce3b-4bc0-bba8-eba7f8a212f1"
      },
      "outputs": [
        {
          "output_type": "stream",
          "name": "stdout",
          "text": [
            "402\n",
            "984\n",
            "360\n",
            "408\n",
            "980\n",
            "544\n",
            "390\n",
            "984\n",
            "592\n",
            "236\n",
            "942\n",
            "386\n",
            "462\n",
            "418\n",
            "344\n",
            "236\n",
            "566\n",
            "978\n",
            "328\n",
            "162\n",
            "758\n",
            "918\n",
            "Done\n"
          ]
        }
      ],
      "source": [
        "numbers = [951,402,984,651,360,69,408,319,601,485,980,507,725,547,544,615,83,165,141,501,263,617,\n",
        "           865,575,219,390,984,592,236,105,942,941,386,462,47,418,907,344,236,375,823,566,597,978,\n",
        "           328,615,953,345,399,162,758,219,918,237,412,566,826,248,866,950,626,949]\n",
        "\n",
        "for loop in numbers:\n",
        "  if loop % 2 == 0:\n",
        "    print(loop)\n",
        "    if loop == 918:\n",
        "      print ('Done')\n",
        "      break"
      ]
    }
  ]
}